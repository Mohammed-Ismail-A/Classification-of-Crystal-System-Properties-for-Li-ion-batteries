{
 "cells": [
  {
   "cell_type": "code",
   "execution_count": 1,
   "metadata": {},
   "outputs": [
    {
     "name": "stderr",
     "output_type": "stream",
     "text": [
      "d:\\SWs\\Python39\\lib\\site-packages\\sklearn\\utils\\deprecation.py:143: FutureWarning: The sklearn.utils.testing module is  deprecated in version 0.22 and will be removed in version 0.24. The corresponding classes / functions should instead be imported from sklearn.utils. Anything that cannot be imported from sklearn.utils is now part of the private API.\n",
      "  warnings.warn(message, FutureWarning)\n",
      "d:\\SWs\\Python39\\lib\\site-packages\\xgboost\\compat.py:93: FutureWarning: pandas.Int64Index is deprecated and will be removed from pandas in a future version. Use pandas.Index with the appropriate dtype instead.\n",
      "  from pandas import MultiIndex, Int64Index\n"
     ]
    }
   ],
   "source": [
    "import pandas as pd\n",
    "import numpy as np\n",
    "import seaborn as sns\n",
    "import matplotlib.pyplot as plt\n",
    "from sklearn.model_selection import train_test_split\n",
    "from sklearn.preprocessing import StandardScaler\n",
    "from sklearn.metrics import classification_report, confusion_matrix\n",
    "from lazypredict.Supervised import LazyClassifier\n",
    "from sklearn.metrics import accuracy_score, classification_report, confusion_matrix\n",
    "from scipy import stats\n",
    "from sklearn.model_selection import RandomizedSearchCV\n",
    "%matplotlib inline"
   ]
  },
  {
   "cell_type": "code",
   "execution_count": 2,
   "metadata": {},
   "outputs": [
    {
     "data": {
      "text/html": [
       "<div>\n",
       "<style scoped>\n",
       "    .dataframe tbody tr th:only-of-type {\n",
       "        vertical-align: middle;\n",
       "    }\n",
       "\n",
       "    .dataframe tbody tr th {\n",
       "        vertical-align: top;\n",
       "    }\n",
       "\n",
       "    .dataframe thead th {\n",
       "        text-align: right;\n",
       "    }\n",
       "</style>\n",
       "<table border=\"1\" class=\"dataframe\">\n",
       "  <thead>\n",
       "    <tr style=\"text-align: right;\">\n",
       "      <th></th>\n",
       "      <th>Materials Id</th>\n",
       "      <th>Formula</th>\n",
       "      <th>Spacegroup</th>\n",
       "      <th>Formation Energy (eV)</th>\n",
       "      <th>E Above Hull (eV)</th>\n",
       "      <th>Band Gap (eV)</th>\n",
       "      <th>Nsites</th>\n",
       "      <th>Density (gm/cc)</th>\n",
       "      <th>Volume</th>\n",
       "      <th>Has Bandstructure</th>\n",
       "      <th>Crystal System</th>\n",
       "    </tr>\n",
       "  </thead>\n",
       "  <tbody>\n",
       "    <tr>\n",
       "      <th>0</th>\n",
       "      <td>mp-849394</td>\n",
       "      <td>Li2MnSiO4</td>\n",
       "      <td>Pc</td>\n",
       "      <td>-2.70</td>\n",
       "      <td>0.01</td>\n",
       "      <td>3.46</td>\n",
       "      <td>16</td>\n",
       "      <td>2.99</td>\n",
       "      <td>178.51</td>\n",
       "      <td>True</td>\n",
       "      <td>monoclinic</td>\n",
       "    </tr>\n",
       "    <tr>\n",
       "      <th>1</th>\n",
       "      <td>mp-783909</td>\n",
       "      <td>Li2MnSiO4</td>\n",
       "      <td>P21/c</td>\n",
       "      <td>-2.70</td>\n",
       "      <td>0.01</td>\n",
       "      <td>2.88</td>\n",
       "      <td>32</td>\n",
       "      <td>2.93</td>\n",
       "      <td>365.27</td>\n",
       "      <td>True</td>\n",
       "      <td>monoclinic</td>\n",
       "    </tr>\n",
       "    <tr>\n",
       "      <th>2</th>\n",
       "      <td>mp-761311</td>\n",
       "      <td>Li4MnSi2O7</td>\n",
       "      <td>Cc</td>\n",
       "      <td>-2.77</td>\n",
       "      <td>0.01</td>\n",
       "      <td>3.65</td>\n",
       "      <td>28</td>\n",
       "      <td>2.76</td>\n",
       "      <td>301.77</td>\n",
       "      <td>True</td>\n",
       "      <td>monoclinic</td>\n",
       "    </tr>\n",
       "    <tr>\n",
       "      <th>3</th>\n",
       "      <td>mp-761598</td>\n",
       "      <td>Li4Mn2Si3O10</td>\n",
       "      <td>C2/c</td>\n",
       "      <td>-2.78</td>\n",
       "      <td>0.01</td>\n",
       "      <td>3.02</td>\n",
       "      <td>38</td>\n",
       "      <td>2.91</td>\n",
       "      <td>436.18</td>\n",
       "      <td>True</td>\n",
       "      <td>monoclinic</td>\n",
       "    </tr>\n",
       "    <tr>\n",
       "      <th>4</th>\n",
       "      <td>mp-767709</td>\n",
       "      <td>Li2Mn3Si3O10</td>\n",
       "      <td>C2/c</td>\n",
       "      <td>-2.75</td>\n",
       "      <td>0.02</td>\n",
       "      <td>2.58</td>\n",
       "      <td>36</td>\n",
       "      <td>3.33</td>\n",
       "      <td>421.29</td>\n",
       "      <td>True</td>\n",
       "      <td>monoclinic</td>\n",
       "    </tr>\n",
       "  </tbody>\n",
       "</table>\n",
       "</div>"
      ],
      "text/plain": [
       "  Materials Id       Formula Spacegroup  Formation Energy (eV)  \\\n",
       "0    mp-849394     Li2MnSiO4         Pc                  -2.70   \n",
       "1    mp-783909     Li2MnSiO4      P21/c                  -2.70   \n",
       "2    mp-761311    Li4MnSi2O7         Cc                  -2.77   \n",
       "3    mp-761598  Li4Mn2Si3O10       C2/c                  -2.78   \n",
       "4    mp-767709  Li2Mn3Si3O10       C2/c                  -2.75   \n",
       "\n",
       "   E Above Hull (eV)  Band Gap (eV)  Nsites  Density (gm/cc)  Volume  \\\n",
       "0               0.01           3.46      16             2.99  178.51   \n",
       "1               0.01           2.88      32             2.93  365.27   \n",
       "2               0.01           3.65      28             2.76  301.77   \n",
       "3               0.01           3.02      38             2.91  436.18   \n",
       "4               0.02           2.58      36             3.33  421.29   \n",
       "\n",
       "   Has Bandstructure Crystal System  \n",
       "0               True     monoclinic  \n",
       "1               True     monoclinic  \n",
       "2               True     monoclinic  \n",
       "3               True     monoclinic  \n",
       "4               True     monoclinic  "
      ]
     },
     "execution_count": 2,
     "metadata": {},
     "output_type": "execute_result"
    }
   ],
   "source": [
    "df = pd.read_csv(\"lithium-ion batteries.csv\")\n",
    "df.head()"
   ]
  },
  {
   "cell_type": "code",
   "execution_count": 3,
   "metadata": {},
   "outputs": [
    {
     "name": "stdout",
     "output_type": "stream",
     "text": [
      "<class 'pandas.core.frame.DataFrame'>\n",
      "RangeIndex: 339 entries, 0 to 338\n",
      "Data columns (total 11 columns):\n",
      " #   Column                 Non-Null Count  Dtype  \n",
      "---  ------                 --------------  -----  \n",
      " 0   Materials Id           339 non-null    object \n",
      " 1   Formula                339 non-null    object \n",
      " 2   Spacegroup             339 non-null    object \n",
      " 3   Formation Energy (eV)  339 non-null    float64\n",
      " 4   E Above Hull (eV)      339 non-null    float64\n",
      " 5   Band Gap (eV)          339 non-null    float64\n",
      " 6   Nsites                 339 non-null    int64  \n",
      " 7   Density (gm/cc)        339 non-null    float64\n",
      " 8   Volume                 339 non-null    float64\n",
      " 9   Has Bandstructure      339 non-null    bool   \n",
      " 10  Crystal System         339 non-null    object \n",
      "dtypes: bool(1), float64(5), int64(1), object(4)\n",
      "memory usage: 26.9+ KB\n"
     ]
    }
   ],
   "source": [
    "df.info()"
   ]
  },
  {
   "cell_type": "code",
   "execution_count": 4,
   "metadata": {},
   "outputs": [
    {
     "data": {
      "text/plain": [
       "Materials Id            0.00\n",
       "Formula                 0.00\n",
       "Spacegroup              0.00\n",
       "Formation Energy (eV)   0.00\n",
       "E Above Hull (eV)       0.00\n",
       "Band Gap (eV)           0.00\n",
       "Nsites                  0.00\n",
       "Density (gm/cc)         0.00\n",
       "Volume                  0.00\n",
       "Has Bandstructure       0.00\n",
       "Crystal System          0.00\n",
       "dtype: float64"
      ]
     },
     "execution_count": 4,
     "metadata": {},
     "output_type": "execute_result"
    }
   ],
   "source": [
    "df.isna().sum()* 100 / len(df)"
   ]
  },
  {
   "cell_type": "code",
   "execution_count": 5,
   "metadata": {},
   "outputs": [
    {
     "data": {
      "text/plain": [
       "monoclinic      139\n",
       "orthorhombic    128\n",
       "triclinic        72\n",
       "Name: Crystal System, dtype: int64"
      ]
     },
     "execution_count": 5,
     "metadata": {},
     "output_type": "execute_result"
    }
   ],
   "source": [
    "df[\"Crystal System\"].value_counts()"
   ]
  },
  {
   "cell_type": "code",
   "execution_count": 6,
   "metadata": {},
   "outputs": [],
   "source": [
    "#from pandas_profiling import profile_report\n",
    "#profile_report.ProfileReport(df).to_file(\"battery_sys_report.html\")"
   ]
  },
  {
   "cell_type": "code",
   "execution_count": 7,
   "metadata": {},
   "outputs": [
    {
     "name": "stdout",
     "output_type": "stream",
     "text": [
      "<class 'pandas.core.frame.DataFrame'>\n",
      "RangeIndex: 339 entries, 0 to 338\n",
      "Data columns (total 10 columns):\n",
      " #   Column                 Non-Null Count  Dtype  \n",
      "---  ------                 --------------  -----  \n",
      " 0   Formula                339 non-null    object \n",
      " 1   Spacegroup             339 non-null    object \n",
      " 2   Formation Energy (eV)  339 non-null    float64\n",
      " 3   E Above Hull (eV)      339 non-null    float64\n",
      " 4   Band Gap (eV)          339 non-null    float64\n",
      " 5   Nsites                 339 non-null    int64  \n",
      " 6   Density (gm/cc)        339 non-null    float64\n",
      " 7   Volume                 339 non-null    float64\n",
      " 8   Has Bandstructure      339 non-null    bool   \n",
      " 9   Crystal System         339 non-null    object \n",
      "dtypes: bool(1), float64(5), int64(1), object(3)\n",
      "memory usage: 24.3+ KB\n"
     ]
    }
   ],
   "source": [
    "data = df.drop([\"Materials Id\"], axis=1)\n",
    "data.info()"
   ]
  },
  {
   "cell_type": "code",
   "execution_count": 8,
   "metadata": {},
   "outputs": [],
   "source": [
    "from sklearn.preprocessing import LabelEncoder\n",
    "le = LabelEncoder()\n",
    "cols_to_conv = [\"Formula\", \"Spacegroup\", \"Has Bandstructure\", \"Crystal System\"]\n",
    "for i in cols_to_conv:\n",
    "    data[i] = le.fit_transform(data[i])"
   ]
  },
  {
   "cell_type": "code",
   "execution_count": 9,
   "metadata": {},
   "outputs": [
    {
     "name": "stdout",
     "output_type": "stream",
     "text": [
      "<class 'pandas.core.frame.DataFrame'>\n",
      "RangeIndex: 339 entries, 0 to 338\n",
      "Data columns (total 10 columns):\n",
      " #   Column                 Non-Null Count  Dtype  \n",
      "---  ------                 --------------  -----  \n",
      " 0   Formula                339 non-null    int32  \n",
      " 1   Spacegroup             339 non-null    int32  \n",
      " 2   Formation Energy (eV)  339 non-null    float64\n",
      " 3   E Above Hull (eV)      339 non-null    float64\n",
      " 4   Band Gap (eV)          339 non-null    float64\n",
      " 5   Nsites                 339 non-null    int64  \n",
      " 6   Density (gm/cc)        339 non-null    float64\n",
      " 7   Volume                 339 non-null    float64\n",
      " 8   Has Bandstructure      339 non-null    int64  \n",
      " 9   Crystal System         339 non-null    int32  \n",
      "dtypes: float64(5), int32(3), int64(2)\n",
      "memory usage: 22.6 KB\n"
     ]
    }
   ],
   "source": [
    "data.info()"
   ]
  },
  {
   "cell_type": "code",
   "execution_count": 10,
   "metadata": {},
   "outputs": [
    {
     "data": {
      "text/plain": [
       "0    139\n",
       "1    128\n",
       "2     72\n",
       "Name: Crystal System, dtype: int64"
      ]
     },
     "execution_count": 10,
     "metadata": {},
     "output_type": "execute_result"
    }
   ],
   "source": [
    "data[\"Crystal System\"].value_counts()"
   ]
  },
  {
   "cell_type": "code",
   "execution_count": 11,
   "metadata": {},
   "outputs": [
    {
     "data": {
      "text/plain": [
       "<AxesSubplot:>"
      ]
     },
     "execution_count": 11,
     "metadata": {},
     "output_type": "execute_result"
    },
    {
     "data": {
      "image/png": "[encoded data removed]",
      "text/plain": [
       "<Figure size 720x432 with 2 Axes>"
      ]
     },
     "metadata": {
      "needs_background": "light"
     },
     "output_type": "display_data"
    }
   ],
   "source": [
    "plt.figure(figsize=(10, 6))\n",
    "sns.heatmap(data.corr(), annot = True)"
   ]
  },
  {
   "cell_type": "code",
   "execution_count": 12,
   "metadata": {},
   "outputs": [
    {
     "name": "stdout",
     "output_type": "stream",
     "text": [
      "<class 'pandas.core.frame.DataFrame'>\n",
      "RangeIndex: 339 entries, 0 to 338\n",
      "Data columns (total 9 columns):\n",
      " #   Column                 Non-Null Count  Dtype  \n",
      "---  ------                 --------------  -----  \n",
      " 0   Formula                339 non-null    int32  \n",
      " 1   Spacegroup             339 non-null    int32  \n",
      " 2   Formation Energy (eV)  339 non-null    float64\n",
      " 3   E Above Hull (eV)      339 non-null    float64\n",
      " 4   Band Gap (eV)          339 non-null    float64\n",
      " 5   Density (gm/cc)        339 non-null    float64\n",
      " 6   Volume                 339 non-null    float64\n",
      " 7   Has Bandstructure      339 non-null    int64  \n",
      " 8   Crystal System         339 non-null    int32  \n",
      "dtypes: float64(5), int32(3), int64(1)\n",
      "memory usage: 20.0 KB\n"
     ]
    }
   ],
   "source": [
    "result_df = data.drop([\"Nsites\"], axis = 1)\n",
    "result_df.info()"
   ]
  },
  {
   "cell_type": "code",
   "execution_count": 13,
   "metadata": {},
   "outputs": [],
   "source": [
    "from imblearn.over_sampling import SMOTE\n",
    "\n",
    "X = data.drop(['Crystal System'],axis=1) # Features\n",
    "y = data['Crystal System'] # Target\n",
    "sm = SMOTE(sampling_strategy='auto', k_neighbors=1, random_state=7)\n",
    "X_res, y_res = sm.fit_resample(X, y)"
   ]
  },
  {
   "cell_type": "code",
   "execution_count": 14,
   "metadata": {},
   "outputs": [
    {
     "data": {
      "text/plain": [
       "0    139\n",
       "1    139\n",
       "2    139\n",
       "Name: Crystal System, dtype: int64"
      ]
     },
     "execution_count": 14,
     "metadata": {},
     "output_type": "execute_result"
    }
   ],
   "source": [
    "y_res.value_counts()"
   ]
  },
  {
   "cell_type": "code",
   "execution_count": 15,
   "metadata": {},
   "outputs": [
    {
     "name": "stdout",
     "output_type": "stream",
     "text": [
      "<class 'pandas.core.frame.DataFrame'>\n",
      "RangeIndex: 339 entries, 0 to 338\n",
      "Data columns (total 10 columns):\n",
      " #   Column                 Non-Null Count  Dtype  \n",
      "---  ------                 --------------  -----  \n",
      " 0   Formula                339 non-null    int32  \n",
      " 1   Spacegroup             339 non-null    int32  \n",
      " 2   Formation Energy (eV)  339 non-null    float64\n",
      " 3   E Above Hull (eV)      339 non-null    float64\n",
      " 4   Band Gap (eV)          339 non-null    float64\n",
      " 5   Nsites                 339 non-null    int64  \n",
      " 6   Density (gm/cc)        339 non-null    float64\n",
      " 7   Volume                 339 non-null    float64\n",
      " 8   Has Bandstructure      339 non-null    int64  \n",
      " 9   Crystal System         339 non-null    int32  \n",
      "dtypes: float64(5), int32(3), int64(2)\n",
      "memory usage: 22.6 KB\n"
     ]
    }
   ],
   "source": [
    "data.info()"
   ]
  },
  {
   "cell_type": "code",
   "execution_count": 16,
   "metadata": {},
   "outputs": [],
   "source": [
    "# Train-Test splitting the data with test size as 25%\n",
    "X_train,X_test,y_train,y_test=train_test_split(X_res,y_res,test_size=0.25, random_state=7)"
   ]
  },
  {
   "cell_type": "code",
   "execution_count": 17,
   "metadata": {},
   "outputs": [],
   "source": [
    "sc = StandardScaler()\n",
    "X_train = sc.fit_transform(X_train)\n",
    "X_test = sc.transform(X_test)"
   ]
  },
  {
   "cell_type": "code",
   "execution_count": 18,
   "metadata": {},
   "outputs": [],
   "source": [
    "def cr(test, pred):\n",
    "  print(classification_report(test,pred))\n",
    "\n",
    "  fig, ax= plt.subplots(figsize = (6,4))\n",
    "  cf_matrix = confusion_matrix(test,pred)\n",
    "  #[0][0] = True Negative \n",
    "  #[1][0] = False Negative\n",
    "  #[0][1] = False Positive\n",
    "  #[1][1] = True Positive\n",
    "  TN = cf_matrix[0][0]\n",
    "  FP = cf_matrix[0][1]\n",
    "  FN = cf_matrix[1][0] \n",
    "  TP = cf_matrix[1][1]\n",
    "  # calculate the sensitivity\n",
    "  conf_sensitivity = TP / (TP + FN)\n",
    "  print(\"Sensitivity: \", conf_sensitivity)\n",
    "  # calculate the specificity\n",
    "  conf_specificity = TN / (TN + FP)\n",
    "  print(\"Specificity: \", conf_specificity)\n",
    "  ax.set_title(\"Confusion Matrix Heatmap\", fontsize = 15)\n",
    "  sns.heatmap(cf_matrix, annot=True, fmt = 'g', ax = ax)\n",
    "  ax.set_xlabel('Predicted labels')\n",
    "  ax.set_ylabel('True labels')"
   ]
  },
  {
   "cell_type": "code",
   "execution_count": 19,
   "metadata": {},
   "outputs": [
    {
     "name": "stderr",
     "output_type": "stream",
     "text": [
      "100%|██████████| 29/29 [00:00<00:00, 34.46it/s]\n"
     ]
    }
   ],
   "source": [
    "# fit all models\n",
    "lazy_clf = LazyClassifier(predictions=True)\n",
    "models, predictions = lazy_clf.fit(X_train, X_test, y_train, y_test)"
   ]
  },
  {
   "cell_type": "code",
   "execution_count": 20,
   "metadata": {},
   "outputs": [
    {
     "data": {
      "text/html": [
       "<div>\n",
       "<style scoped>\n",
       "    .dataframe tbody tr th:only-of-type {\n",
       "        vertical-align: middle;\n",
       "    }\n",
       "\n",
       "    .dataframe tbody tr th {\n",
       "        vertical-align: top;\n",
       "    }\n",
       "\n",
       "    .dataframe thead th {\n",
       "        text-align: right;\n",
       "    }\n",
       "</style>\n",
       "<table border=\"1\" class=\"dataframe\">\n",
       "  <thead>\n",
       "    <tr style=\"text-align: right;\">\n",
       "      <th></th>\n",
       "      <th>Accuracy</th>\n",
       "      <th>Balanced Accuracy</th>\n",
       "      <th>ROC AUC</th>\n",
       "      <th>F1 Score</th>\n",
       "      <th>Time Taken</th>\n",
       "    </tr>\n",
       "    <tr>\n",
       "      <th>Model</th>\n",
       "      <th></th>\n",
       "      <th></th>\n",
       "      <th></th>\n",
       "      <th></th>\n",
       "      <th></th>\n",
       "    </tr>\n",
       "  </thead>\n",
       "  <tbody>\n",
       "    <tr>\n",
       "      <th>LGBMClassifier</th>\n",
       "      <td>0.99</td>\n",
       "      <td>0.99</td>\n",
       "      <td>None</td>\n",
       "      <td>0.99</td>\n",
       "      <td>0.11</td>\n",
       "    </tr>\n",
       "    <tr>\n",
       "      <th>DecisionTreeClassifier</th>\n",
       "      <td>0.99</td>\n",
       "      <td>0.99</td>\n",
       "      <td>None</td>\n",
       "      <td>0.99</td>\n",
       "      <td>0.00</td>\n",
       "    </tr>\n",
       "    <tr>\n",
       "      <th>XGBClassifier</th>\n",
       "      <td>0.99</td>\n",
       "      <td>0.99</td>\n",
       "      <td>None</td>\n",
       "      <td>0.99</td>\n",
       "      <td>0.12</td>\n",
       "    </tr>\n",
       "    <tr>\n",
       "      <th>BaggingClassifier</th>\n",
       "      <td>0.97</td>\n",
       "      <td>0.97</td>\n",
       "      <td>None</td>\n",
       "      <td>0.97</td>\n",
       "      <td>0.03</td>\n",
       "    </tr>\n",
       "    <tr>\n",
       "      <th>RandomForestClassifier</th>\n",
       "      <td>0.96</td>\n",
       "      <td>0.96</td>\n",
       "      <td>None</td>\n",
       "      <td>0.96</td>\n",
       "      <td>0.11</td>\n",
       "    </tr>\n",
       "    <tr>\n",
       "      <th>ExtraTreesClassifier</th>\n",
       "      <td>0.95</td>\n",
       "      <td>0.95</td>\n",
       "      <td>None</td>\n",
       "      <td>0.95</td>\n",
       "      <td>0.07</td>\n",
       "    </tr>\n",
       "    <tr>\n",
       "      <th>LabelPropagation</th>\n",
       "      <td>0.83</td>\n",
       "      <td>0.83</td>\n",
       "      <td>None</td>\n",
       "      <td>0.82</td>\n",
       "      <td>0.01</td>\n",
       "    </tr>\n",
       "    <tr>\n",
       "      <th>LabelSpreading</th>\n",
       "      <td>0.83</td>\n",
       "      <td>0.83</td>\n",
       "      <td>None</td>\n",
       "      <td>0.82</td>\n",
       "      <td>0.01</td>\n",
       "    </tr>\n",
       "    <tr>\n",
       "      <th>GaussianNB</th>\n",
       "      <td>0.83</td>\n",
       "      <td>0.83</td>\n",
       "      <td>None</td>\n",
       "      <td>0.83</td>\n",
       "      <td>0.01</td>\n",
       "    </tr>\n",
       "    <tr>\n",
       "      <th>ExtraTreeClassifier</th>\n",
       "      <td>0.82</td>\n",
       "      <td>0.82</td>\n",
       "      <td>None</td>\n",
       "      <td>0.82</td>\n",
       "      <td>0.01</td>\n",
       "    </tr>\n",
       "    <tr>\n",
       "      <th>QuadraticDiscriminantAnalysis</th>\n",
       "      <td>0.82</td>\n",
       "      <td>0.82</td>\n",
       "      <td>None</td>\n",
       "      <td>0.82</td>\n",
       "      <td>0.01</td>\n",
       "    </tr>\n",
       "    <tr>\n",
       "      <th>NuSVC</th>\n",
       "      <td>0.75</td>\n",
       "      <td>0.75</td>\n",
       "      <td>None</td>\n",
       "      <td>0.74</td>\n",
       "      <td>0.01</td>\n",
       "    </tr>\n",
       "    <tr>\n",
       "      <th>KNeighborsClassifier</th>\n",
       "      <td>0.71</td>\n",
       "      <td>0.71</td>\n",
       "      <td>None</td>\n",
       "      <td>0.71</td>\n",
       "      <td>0.01</td>\n",
       "    </tr>\n",
       "    <tr>\n",
       "      <th>SVC</th>\n",
       "      <td>0.70</td>\n",
       "      <td>0.69</td>\n",
       "      <td>None</td>\n",
       "      <td>0.69</td>\n",
       "      <td>0.01</td>\n",
       "    </tr>\n",
       "    <tr>\n",
       "      <th>BernoulliNB</th>\n",
       "      <td>0.62</td>\n",
       "      <td>0.62</td>\n",
       "      <td>None</td>\n",
       "      <td>0.60</td>\n",
       "      <td>0.01</td>\n",
       "    </tr>\n",
       "    <tr>\n",
       "      <th>LinearDiscriminantAnalysis</th>\n",
       "      <td>0.54</td>\n",
       "      <td>0.55</td>\n",
       "      <td>None</td>\n",
       "      <td>0.54</td>\n",
       "      <td>0.01</td>\n",
       "    </tr>\n",
       "    <tr>\n",
       "      <th>CalibratedClassifierCV</th>\n",
       "      <td>0.52</td>\n",
       "      <td>0.53</td>\n",
       "      <td>None</td>\n",
       "      <td>0.51</td>\n",
       "      <td>0.12</td>\n",
       "    </tr>\n",
       "    <tr>\n",
       "      <th>LinearSVC</th>\n",
       "      <td>0.51</td>\n",
       "      <td>0.52</td>\n",
       "      <td>None</td>\n",
       "      <td>0.50</td>\n",
       "      <td>0.03</td>\n",
       "    </tr>\n",
       "    <tr>\n",
       "      <th>LogisticRegression</th>\n",
       "      <td>0.51</td>\n",
       "      <td>0.52</td>\n",
       "      <td>None</td>\n",
       "      <td>0.50</td>\n",
       "      <td>0.01</td>\n",
       "    </tr>\n",
       "    <tr>\n",
       "      <th>RidgeClassifier</th>\n",
       "      <td>0.50</td>\n",
       "      <td>0.51</td>\n",
       "      <td>None</td>\n",
       "      <td>0.49</td>\n",
       "      <td>0.02</td>\n",
       "    </tr>\n",
       "    <tr>\n",
       "      <th>RidgeClassifierCV</th>\n",
       "      <td>0.50</td>\n",
       "      <td>0.51</td>\n",
       "      <td>None</td>\n",
       "      <td>0.49</td>\n",
       "      <td>0.01</td>\n",
       "    </tr>\n",
       "    <tr>\n",
       "      <th>AdaBoostClassifier</th>\n",
       "      <td>0.50</td>\n",
       "      <td>0.50</td>\n",
       "      <td>None</td>\n",
       "      <td>0.40</td>\n",
       "      <td>0.09</td>\n",
       "    </tr>\n",
       "    <tr>\n",
       "      <th>SGDClassifier</th>\n",
       "      <td>0.49</td>\n",
       "      <td>0.49</td>\n",
       "      <td>None</td>\n",
       "      <td>0.48</td>\n",
       "      <td>0.01</td>\n",
       "    </tr>\n",
       "    <tr>\n",
       "      <th>NearestCentroid</th>\n",
       "      <td>0.48</td>\n",
       "      <td>0.48</td>\n",
       "      <td>None</td>\n",
       "      <td>0.47</td>\n",
       "      <td>0.01</td>\n",
       "    </tr>\n",
       "    <tr>\n",
       "      <th>Perceptron</th>\n",
       "      <td>0.44</td>\n",
       "      <td>0.43</td>\n",
       "      <td>None</td>\n",
       "      <td>0.41</td>\n",
       "      <td>0.00</td>\n",
       "    </tr>\n",
       "    <tr>\n",
       "      <th>PassiveAggressiveClassifier</th>\n",
       "      <td>0.41</td>\n",
       "      <td>0.41</td>\n",
       "      <td>None</td>\n",
       "      <td>0.39</td>\n",
       "      <td>0.01</td>\n",
       "    </tr>\n",
       "    <tr>\n",
       "      <th>DummyClassifier</th>\n",
       "      <td>0.35</td>\n",
       "      <td>0.35</td>\n",
       "      <td>None</td>\n",
       "      <td>0.35</td>\n",
       "      <td>0.01</td>\n",
       "    </tr>\n",
       "  </tbody>\n",
       "</table>\n",
       "</div>"
      ],
      "text/plain": [
       "                               Accuracy  Balanced Accuracy ROC AUC  F1 Score  \\\n",
       "Model                                                                          \n",
       "LGBMClassifier                     0.99               0.99    None      0.99   \n",
       "DecisionTreeClassifier             0.99               0.99    None      0.99   \n",
       "XGBClassifier                      0.99               0.99    None      0.99   \n",
       "BaggingClassifier                  0.97               0.97    None      0.97   \n",
       "RandomForestClassifier             0.96               0.96    None      0.96   \n",
       "ExtraTreesClassifier               0.95               0.95    None      0.95   \n",
       "LabelPropagation                   0.83               0.83    None      0.82   \n",
       "LabelSpreading                     0.83               0.83    None      0.82   \n",
       "GaussianNB                         0.83               0.83    None      0.83   \n",
       "ExtraTreeClassifier                0.82               0.82    None      0.82   \n",
       "QuadraticDiscriminantAnalysis      0.82               0.82    None      0.82   \n",
       "NuSVC                              0.75               0.75    None      0.74   \n",
       "KNeighborsClassifier               0.71               0.71    None      0.71   \n",
       "SVC                                0.70               0.69    None      0.69   \n",
       "BernoulliNB                        0.62               0.62    None      0.60   \n",
       "LinearDiscriminantAnalysis         0.54               0.55    None      0.54   \n",
       "CalibratedClassifierCV             0.52               0.53    None      0.51   \n",
       "LinearSVC                          0.51               0.52    None      0.50   \n",
       "LogisticRegression                 0.51               0.52    None      0.50   \n",
       "RidgeClassifier                    0.50               0.51    None      0.49   \n",
       "RidgeClassifierCV                  0.50               0.51    None      0.49   \n",
       "AdaBoostClassifier                 0.50               0.50    None      0.40   \n",
       "SGDClassifier                      0.49               0.49    None      0.48   \n",
       "NearestCentroid                    0.48               0.48    None      0.47   \n",
       "Perceptron                         0.44               0.43    None      0.41   \n",
       "PassiveAggressiveClassifier        0.41               0.41    None      0.39   \n",
       "DummyClassifier                    0.35               0.35    None      0.35   \n",
       "\n",
       "                               Time Taken  \n",
       "Model                                      \n",
       "LGBMClassifier                       0.11  \n",
       "DecisionTreeClassifier               0.00  \n",
       "XGBClassifier                        0.12  \n",
       "BaggingClassifier                    0.03  \n",
       "RandomForestClassifier               0.11  \n",
       "ExtraTreesClassifier                 0.07  \n",
       "LabelPropagation                     0.01  \n",
       "LabelSpreading                       0.01  \n",
       "GaussianNB                           0.01  \n",
       "ExtraTreeClassifier                  0.01  \n",
       "QuadraticDiscriminantAnalysis        0.01  \n",
       "NuSVC                                0.01  \n",
       "KNeighborsClassifier                 0.01  \n",
       "SVC                                  0.01  \n",
       "BernoulliNB                          0.01  \n",
       "LinearDiscriminantAnalysis           0.01  \n",
       "CalibratedClassifierCV               0.12  \n",
       "LinearSVC                            0.03  \n",
       "LogisticRegression                   0.01  \n",
       "RidgeClassifier                      0.02  \n",
       "RidgeClassifierCV                    0.01  \n",
       "AdaBoostClassifier                   0.09  \n",
       "SGDClassifier                        0.01  \n",
       "NearestCentroid                      0.01  \n",
       "Perceptron                           0.00  \n",
       "PassiveAggressiveClassifier          0.01  \n",
       "DummyClassifier                      0.01  "
      ]
     },
     "execution_count": 20,
     "metadata": {},
     "output_type": "execute_result"
    }
   ],
   "source": [
    "models"
   ]
  },
  {
   "cell_type": "code",
   "execution_count": 21,
   "metadata": {},
   "outputs": [
    {
     "name": "stdout",
     "output_type": "stream",
     "text": [
      "Accuracy Score: 0.9904761904761905\n",
      "              precision    recall  f1-score   support\n",
      "\n",
      "           0       0.97      1.00      0.99        35\n",
      "           1       1.00      0.97      0.99        34\n",
      "           2       1.00      1.00      1.00        36\n",
      "\n",
      "    accuracy                           0.99       105\n",
      "   macro avg       0.99      0.99      0.99       105\n",
      "weighted avg       0.99      0.99      0.99       105\n",
      "\n",
      "Sensitivity:  0.9705882352941176\n",
      "Specificity:  1.0\n"
     ]
    },
    {
     "data": {
      "image/png": "[encoded data removed]",
      "text/plain": [
       "<Figure size 432x288 with 2 Axes>"
      ]
     },
     "metadata": {
      "needs_background": "light"
     },
     "output_type": "display_data"
    }
   ],
   "source": [
    "import lightgbm as lgb\n",
    "LGBM_clf = lgb.LGBMClassifier()\n",
    "LGBM_clf.fit(X_train, y_train)\n",
    "y_pred = LGBM_clf.predict(X_test)\n",
    "print(\"Accuracy Score:\", accuracy_score(y_test, y_pred))\n",
    "cr(y_test, y_pred)"
   ]
  },
  {
   "cell_type": "code",
   "execution_count": 22,
   "metadata": {},
   "outputs": [
    {
     "data": {
      "text/plain": [
       "0.9904721863519425"
      ]
     },
     "execution_count": 22,
     "metadata": {},
     "output_type": "execute_result"
    }
   ],
   "source": [
    "from sklearn.metrics import f1_score\n",
    "f1_score(y_test, y_pred, average=\"weighted\")"
   ]
  },
  {
   "cell_type": "code",
   "execution_count": 23,
   "metadata": {},
   "outputs": [
    {
     "data": {
      "text/plain": [
       "make_scorer(f1_score, average=weighted, labels=[0, 1, 2])"
      ]
     },
     "execution_count": 23,
     "metadata": {},
     "output_type": "execute_result"
    }
   ],
   "source": [
    "from sklearn.metrics import make_scorer\n",
    "\n",
    "custom_f1 = make_scorer(\n",
    "    f1_score, greater_is_better=True, average=\"weighted\", labels=[0, 1, 2]\n",
    "  )\n",
    "\n",
    "custom_f1"
   ]
  },
  {
   "cell_type": "code",
   "execution_count": 24,
   "metadata": {},
   "outputs": [],
   "source": [
    "clf_xgb = lgb.LGBMClassifier()\n",
    "\n",
    "param_dist = {'n_estimators': stats.randint(150, 1000),\n",
    "              'learning_rate': stats.uniform(0.01, 0.59),\n",
    "              'subsample': stats.uniform(0.3, 0.6),\n",
    "              'max_depth': [3, 4, 5, 6, 7, 8, 9],\n",
    "              'colsample_bytree': stats.uniform(0.5, 0.4),\n",
    "              'min_child_weight': [1, 2, 3, 4]\n",
    "             }\n",
    "\n",
    "tuned_clf = RandomizedSearchCV(clf_xgb, \n",
    "                         param_distributions = param_dist,\n",
    "                         cv = 5,  \n",
    "                         n_iter = 5,\n",
    "                         scoring = custom_f1, \n",
    "                         error_score = 0, \n",
    "                         verbose = 3, \n",
    "                         n_jobs = -1)"
   ]
  },
  {
   "cell_type": "code",
   "execution_count": 25,
   "metadata": {},
   "outputs": [
    {
     "name": "stdout",
     "output_type": "stream",
     "text": [
      "Fitting 5 folds for each of 5 candidates, totalling 25 fits\n"
     ]
    },
    {
     "name": "stderr",
     "output_type": "stream",
     "text": [
      "[Parallel(n_jobs=-1)]: Using backend LokyBackend with 16 concurrent workers.\n",
      "[Parallel(n_jobs=-1)]: Done   3 out of  25 | elapsed:    2.4s remaining:   18.5s\n",
      "[Parallel(n_jobs=-1)]: Done  12 out of  25 | elapsed:    2.5s remaining:    2.8s\n",
      "[Parallel(n_jobs=-1)]: Done  21 out of  25 | elapsed:    2.8s remaining:    0.4s\n",
      "[Parallel(n_jobs=-1)]: Done  25 out of  25 | elapsed:    2.8s finished\n"
     ]
    },
    {
     "name": "stdout",
     "output_type": "stream",
     "text": [
      "Accuracy Score: 0.9904761904761905\n",
      "              precision    recall  f1-score   support\n",
      "\n",
      "           0       0.97      1.00      0.99        35\n",
      "           1       1.00      0.97      0.99        34\n",
      "           2       1.00      1.00      1.00        36\n",
      "\n",
      "    accuracy                           0.99       105\n",
      "   macro avg       0.99      0.99      0.99       105\n",
      "weighted avg       0.99      0.99      0.99       105\n",
      "\n",
      "Sensitivity:  0.9705882352941176\n",
      "Specificity:  1.0\n"
     ]
    },
    {
     "data": {
      "image/png": "[encoded data removed]",
      "text/plain": [
       "<Figure size 432x288 with 2 Axes>"
      ]
     },
     "metadata": {
      "needs_background": "light"
     },
     "output_type": "display_data"
    }
   ],
   "source": [
    "tuned_clf.fit(X_train, y_train)\n",
    "y_pred_2 = tuned_clf.predict(X_test)\n",
    "print(\"Accuracy Score:\", accuracy_score(y_test, y_pred_2))\n",
    "cr(y_test, y_pred_2)"
   ]
  },
  {
   "cell_type": "code",
   "execution_count": 26,
   "metadata": {},
   "outputs": [
    {
     "name": "stdout",
     "output_type": "stream",
     "text": [
      " Results from Random Search \n",
      "\n",
      " The best estimator across ALL searched params:\n",
      " LGBMClassifier(colsample_bytree=0.7107291648204334,\n",
      "               learning_rate=0.08063920716119051, max_depth=6,\n",
      "               min_child_weight=4, n_estimators=234,\n",
      "               subsample=0.8344483894885835)\n",
      "\n",
      " The best score across ALL searched params:\n",
      " 0.9613098910801735\n",
      "\n",
      " The best parameters across ALL searched params:\n",
      " {'colsample_bytree': 0.7107291648204334, 'learning_rate': 0.08063920716119051, 'max_depth': 6, 'min_child_weight': 4, 'n_estimators': 234, 'subsample': 0.8344483894885835}\n"
     ]
    }
   ],
   "source": [
    "print(\" Results from Random Search \" )\n",
    "print(\"\\n The best estimator across ALL searched params:\\n\", tuned_clf.best_estimator_)\n",
    "print(\"\\n The best score across ALL searched params:\\n\", tuned_clf.best_score_)\n",
    "print(\"\\n The best parameters across ALL searched params:\\n\", tuned_clf.best_params_)"
   ]
  }
 ],
 "metadata": {
  "kernelspec": {
   "display_name": "Python 3.9.5 64-bit",
   "language": "python",
   "name": "python3"
  },
  "language_info": {
   "codemirror_mode": {
    "name": "ipython",
    "version": 3
   },
   "file_extension": ".py",
   "mimetype": "text/x-python",
   "name": "python",
   "nbconvert_exporter": "python",
   "pygments_lexer": "ipython3",
   "version": "3.9.5"
  },
  "orig_nbformat": 4,
  "vscode": {
   "interpreter": {
    "hash": "d9101d7502e4a913d094da5adde85c8db97e25b2d173ab17e44ad0193ce37ace"
   }
  }
 },
 "nbformat": 4,
 "nbformat_minor": 2
}
